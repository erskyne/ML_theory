{
 "cells": [
  {
   "cell_type": "markdown",
   "metadata": {},
   "source": [
    "## Setup"
   ]
  },
  {
   "cell_type": "code",
   "execution_count": 2,
   "metadata": {},
   "outputs": [],
   "source": [
    "import numpy as np\n",
    "import pandas as pd\n",
    "\n",
    "weight = [0.5,2.3,2.9]\n",
    "height = [1.4,1.9,3.2]\n",
    "\n",
    "power_for_residual_loss_func = 2\n",
    "\n",
    "def sq_residuals(x,y,intercept,slope):\n",
    "    output = []\n",
    "    for i,j in zip(x,y):\n",
    "        output.append(j-(intercept + slope * i))\n",
    "    return [i**2 for i in output]\n",
    "\n",
    "def derivatives_sq_residuals_with_respect_intercept(x,y,intercept,slope,power_for_residual_loss_func):\n",
    "    output = []\n",
    "    for i,j in zip(x,y):\n",
    "        output.append( power_for_residual_loss_func * (j-(intercept+slope*i)) * -1 )\n",
    "    return output\n",
    "\n",
    "def derivatives_sq_residuals_with_respect_slope(x,y,intercept,slope,power_for_residual_loss_func):\n",
    "    output = []\n",
    "    for i,j in zip(x,y):\n",
    "        output.append( power_for_residual_loss_func * (j-(intercept+slope*i)) * (i*-1) )\n",
    "    return output\n",
    "\n",
    "outputs = []\n",
    "for lrate in np.arange(0.01,0.075,0.005):\n",
    "    intercept = 0\n",
    "    slope = 1\n",
    "    for i in range(999):\n",
    "        deriv_sum_sqres_intercept = sum(derivatives_sq_residuals_with_respect_intercept(weight,height,intercept,slope,power_for_residual_loss_func))\n",
    "        deriv_sum_sqres_slope = sum(derivatives_sq_residuals_with_respect_slope(weight,height,intercept,slope,power_for_residual_loss_func))\n",
    "        #print(f'Derivative of sum of sq residuals with respect to the intercept: {deriv_sum_sqres_intercept}')\n",
    "        #print(f'Derivative of sum of sq residuals with respect to the slope: {deriv_sum_sqres_slope}')\n",
    "        # Apply Learning Rate to calculate new Step Size\n",
    "        step_size_intercept = deriv_sum_sqres_intercept*lrate\n",
    "        step_size_slope = deriv_sum_sqres_slope*lrate\n",
    "        #print(f'Intercept step size: {round(step_size_intercept,4)}')\n",
    "        #print(f'Slope step size: {round(step_size_slope,4)}')\n",
    "        # Calculate new Intercept and Slope from Step Size and previous values\n",
    "        intercept -= step_size_intercept\n",
    "        slope -= step_size_slope\n",
    "        #print(f'New Intercept: {round(intercept,4)}')\n",
    "        #print(f'New Slope: {round(slope,4)}')\n",
    "        sum_sq_resids = sum(sq_residuals(weight,height,intercept,slope))\n",
    "\n",
    "        # Record\n",
    "        outputs.append([lrate,i,slope,intercept,sum_sq_resids])\n",
    "        # End early if all step sizes become very small\n",
    "        if abs(step_size_intercept) < 0.001 and abs(step_size_slope) < 0.001:\n",
    "            break\n",
    "\n"
   ]
  },
  {
   "cell_type": "markdown",
   "metadata": {},
   "source": [
    "## All Results"
   ]
  },
  {
   "cell_type": "code",
   "execution_count": 8,
   "metadata": {},
   "outputs": [
    {
     "data": {
      "text/html": [
       "<div>\n",
       "<style scoped>\n",
       "    .dataframe tbody tr th:only-of-type {\n",
       "        vertical-align: middle;\n",
       "    }\n",
       "\n",
       "    .dataframe tbody tr th {\n",
       "        vertical-align: top;\n",
       "    }\n",
       "\n",
       "    .dataframe thead th {\n",
       "        text-align: right;\n",
       "    }\n",
       "</style>\n",
       "<table border=\"1\" class=\"dataframe\">\n",
       "  <thead>\n",
       "    <tr style=\"text-align: right;\">\n",
       "      <th></th>\n",
       "      <th>lrate</th>\n",
       "      <th>i</th>\n",
       "      <th>slope</th>\n",
       "      <th>intercept</th>\n",
       "      <th>loss</th>\n",
       "    </tr>\n",
       "  </thead>\n",
       "  <tbody>\n",
       "    <tr>\n",
       "      <th>206</th>\n",
       "      <td>0.010</td>\n",
       "      <td>206</td>\n",
       "      <td>6.778085e-01</td>\n",
       "      <td>8.623845e-01</td>\n",
       "      <td>4.496481e-01</td>\n",
       "    </tr>\n",
       "    <tr>\n",
       "      <th>368</th>\n",
       "      <td>0.015</td>\n",
       "      <td>161</td>\n",
       "      <td>6.651472e-01</td>\n",
       "      <td>8.921019e-01</td>\n",
       "      <td>4.467797e-01</td>\n",
       "    </tr>\n",
       "    <tr>\n",
       "      <th>502</th>\n",
       "      <td>0.020</td>\n",
       "      <td>133</td>\n",
       "      <td>6.589453e-01</td>\n",
       "      <td>9.066586e-01</td>\n",
       "      <td>4.458098e-01</td>\n",
       "    </tr>\n",
       "    <tr>\n",
       "      <th>617</th>\n",
       "      <td>0.025</td>\n",
       "      <td>114</td>\n",
       "      <td>6.551898e-01</td>\n",
       "      <td>9.154732e-01</td>\n",
       "      <td>4.453616e-01</td>\n",
       "    </tr>\n",
       "    <tr>\n",
       "      <th>718</th>\n",
       "      <td>0.030</td>\n",
       "      <td>100</td>\n",
       "      <td>6.527380e-01</td>\n",
       "      <td>9.212277e-01</td>\n",
       "      <td>4.451257e-01</td>\n",
       "    </tr>\n",
       "    <tr>\n",
       "      <th>808</th>\n",
       "      <td>0.035</td>\n",
       "      <td>89</td>\n",
       "      <td>6.511028e-01</td>\n",
       "      <td>9.250659e-01</td>\n",
       "      <td>4.449931e-01</td>\n",
       "    </tr>\n",
       "    <tr>\n",
       "      <th>890</th>\n",
       "      <td>0.040</td>\n",
       "      <td>81</td>\n",
       "      <td>6.495871e-01</td>\n",
       "      <td>9.286232e-01</td>\n",
       "      <td>4.448880e-01</td>\n",
       "    </tr>\n",
       "    <tr>\n",
       "      <th>965</th>\n",
       "      <td>0.045</td>\n",
       "      <td>74</td>\n",
       "      <td>6.485969e-01</td>\n",
       "      <td>9.309475e-01</td>\n",
       "      <td>4.448286e-01</td>\n",
       "    </tr>\n",
       "    <tr>\n",
       "      <th>1034</th>\n",
       "      <td>0.050</td>\n",
       "      <td>68</td>\n",
       "      <td>6.478754e-01</td>\n",
       "      <td>9.326408e-01</td>\n",
       "      <td>4.447899e-01</td>\n",
       "    </tr>\n",
       "    <tr>\n",
       "      <th>1098</th>\n",
       "      <td>0.055</td>\n",
       "      <td>63</td>\n",
       "      <td>6.472554e-01</td>\n",
       "      <td>9.340959e-01</td>\n",
       "      <td>4.447597e-01</td>\n",
       "    </tr>\n",
       "    <tr>\n",
       "      <th>1222</th>\n",
       "      <td>0.060</td>\n",
       "      <td>123</td>\n",
       "      <td>6.405975e-01</td>\n",
       "      <td>9.483710e-01</td>\n",
       "      <td>4.446200e-01</td>\n",
       "    </tr>\n",
       "    <tr>\n",
       "      <th>2221</th>\n",
       "      <td>0.065</td>\n",
       "      <td>998</td>\n",
       "      <td>2.013808e+51</td>\n",
       "      <td>8.579953e+50</td>\n",
       "      <td>7.847898e+103</td>\n",
       "    </tr>\n",
       "    <tr>\n",
       "      <th>3220</th>\n",
       "      <td>0.070</td>\n",
       "      <td>998</td>\n",
       "      <td>1.168182e+110</td>\n",
       "      <td>4.977111e+109</td>\n",
       "      <td>2.640816e+221</td>\n",
       "    </tr>\n",
       "  </tbody>\n",
       "</table>\n",
       "</div>"
      ],
      "text/plain": [
       "      lrate    i          slope      intercept           loss\n",
       "206   0.010  206   6.778085e-01   8.623845e-01   4.496481e-01\n",
       "368   0.015  161   6.651472e-01   8.921019e-01   4.467797e-01\n",
       "502   0.020  133   6.589453e-01   9.066586e-01   4.458098e-01\n",
       "617   0.025  114   6.551898e-01   9.154732e-01   4.453616e-01\n",
       "718   0.030  100   6.527380e-01   9.212277e-01   4.451257e-01\n",
       "808   0.035   89   6.511028e-01   9.250659e-01   4.449931e-01\n",
       "890   0.040   81   6.495871e-01   9.286232e-01   4.448880e-01\n",
       "965   0.045   74   6.485969e-01   9.309475e-01   4.448286e-01\n",
       "1034  0.050   68   6.478754e-01   9.326408e-01   4.447899e-01\n",
       "1098  0.055   63   6.472554e-01   9.340959e-01   4.447597e-01\n",
       "1222  0.060  123   6.405975e-01   9.483710e-01   4.446200e-01\n",
       "2221  0.065  998   2.013808e+51   8.579953e+50  7.847898e+103\n",
       "3220  0.070  998  1.168182e+110  4.977111e+109  2.640816e+221"
      ]
     },
     "execution_count": 8,
     "metadata": {},
     "output_type": "execute_result"
    }
   ],
   "source": [
    "pd.options.display.max_rows = 9999\n",
    "results = pd.DataFrame(outputs,columns=[\"lrate\",\"i\",\"slope\",\"intercept\",\"loss\"])\n",
    "results.loc[results.groupby([\"lrate\"])[\"i\"].idxmax()] "
   ]
  },
  {
   "cell_type": "markdown",
   "metadata": {},
   "source": [
    "## Using Learning Rate 0.01"
   ]
  },
  {
   "cell_type": "code",
   "execution_count": 5,
   "metadata": {},
   "outputs": [
    {
     "data": {
      "text/plain": [
       "lrate          0.010000\n",
       "i            206.000000\n",
       "slope          0.677809\n",
       "intercept      0.862385\n",
       "loss           0.449648\n",
       "Name: 206, dtype: float64"
      ]
     },
     "execution_count": 5,
     "metadata": {},
     "output_type": "execute_result"
    }
   ],
   "source": [
    "results[results.lrate==0.010].iloc[-1]"
   ]
  },
  {
   "cell_type": "markdown",
   "metadata": {},
   "source": [
    "## Best Learning Rate based on Loss"
   ]
  },
  {
   "cell_type": "code",
   "execution_count": 6,
   "metadata": {},
   "outputs": [
    {
     "data": {
      "text/plain": [
       "lrate          0.060000\n",
       "i            123.000000\n",
       "slope          0.640597\n",
       "intercept      0.948371\n",
       "loss           0.444620\n",
       "Name: 1222, dtype: float64"
      ]
     },
     "execution_count": 6,
     "metadata": {},
     "output_type": "execute_result"
    }
   ],
   "source": [
    "results.iloc[results['loss'].idxmin()]"
   ]
  }
 ],
 "metadata": {
  "interpreter": {
   "hash": "af6a2397ae482a303a21d2c2ea17a7825fd6a2fa4013e037c62f42bbf2800947"
  },
  "kernelspec": {
   "display_name": "Python 3.9.7 64-bit",
   "language": "python",
   "name": "python3"
  },
  "language_info": {
   "codemirror_mode": {
    "name": "ipython",
    "version": 3
   },
   "file_extension": ".py",
   "mimetype": "text/x-python",
   "name": "python",
   "nbconvert_exporter": "python",
   "pygments_lexer": "ipython3",
   "version": "3.9.7"
  },
  "orig_nbformat": 4
 },
 "nbformat": 4,
 "nbformat_minor": 2
}
