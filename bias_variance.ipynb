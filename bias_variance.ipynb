{
 "cells": [
  {
   "cell_type": "code",
   "execution_count": null,
   "metadata": {},
   "outputs": [],
   "source": [
    "# # Bias and Variance\n",
    "# Bias:\n",
    "# A straight line may have high bias because it cannot capture the curve relationship between x & y\n",
    "# While an (overfit) curved line would have low bias\n",
    "# Variance:\n",
    "# But the straight line has relatively low variance, because the sum of squares / loss is very similar across input datasets / different training sets\n",
    "# While an (overfit) curved line would have high variance as it would be unlikely to fit another dataset well.\n",
    "# Ideal Model:\n",
    "# One with relatively low bias and low variance. By finding a sweet spot between a simple and complex model.\n",
    "# Methods for finding this 'sweet spot' are regularisation, boosting and bagging.\n"
   ]
  }
 ],
 "metadata": {
  "language_info": {
   "name": "python"
  },
  "orig_nbformat": 4
 },
 "nbformat": 4,
 "nbformat_minor": 2
}
